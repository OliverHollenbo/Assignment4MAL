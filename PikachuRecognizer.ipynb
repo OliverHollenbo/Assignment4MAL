{
 "cells": [
  {
   "cell_type": "code",
   "execution_count": null,
   "metadata": {},
   "outputs": [],
   "source": [
    "import keras\n",
    "from keras.models import layers\n",
    "\n",
    "image_folder = 'C:\\Users\\oholl\\OneDrive\\UNI\\5. semester\\MAL\\Assignment4MAL\\Pikachu images\\FilteredImages'\n",
    "image_size = (128, 128)\n",
    "\n",
    "\n",
    "model = keras.models.Sequential([\n",
    "    keras.layers.Conv2D(32, (3, 3), activation='relu', input_shape=(28, 28, 1)),\n",
    "\n",
    "])\n",
    "\n"
   ]
  }
 ],
 "metadata": {
  "language_info": {
   "name": "python"
  }
 },
 "nbformat": 4,
 "nbformat_minor": 2
}
